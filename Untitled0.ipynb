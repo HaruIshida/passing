{
  "cells": [
    {
      "cell_type": "markdown",
      "metadata": {
        "id": "view-in-github",
        "colab_type": "text"
      },
      "source": [
        "<a href=\"https://colab.research.google.com/github/HaruIshida/passing/blob/main/Untitled0.ipynb\" target=\"_parent\"><img src=\"https://colab.research.google.com/assets/colab-badge.svg\" alt=\"Open In Colab\"/></a>"
      ]
    },
    {
      "cell_type": "code",
      "execution_count": null,
      "metadata": {
        "id": "CiA64hgvLdgB",
        "colab": {
          "base_uri": "https://localhost:8080/"
        },
        "outputId": "a18e0b88-2382-4fb0-d6a0-07bc14b143e9"
      },
      "outputs": [
        {
          "output_type": "stream",
          "name": "stdout",
          "text": [
            "   robot  human\n",
            "0      0      1\n",
            "1      0      1\n",
            "2      1      0\n",
            "3      0      1\n",
            "4      0      1\n"
          ]
        }
      ],
      "source": [
        "import pandas as pd\n",
        "\n",
        "lst = ['robot'] * 10\n",
        "lst += ['human'] * 10\n",
        "random.shuffle(lst)\n",
        "data = pd.DataFrame({'whoAmI': lst})\n",
        "\n",
        "# Создаем пустой DataFrame с нулями и единицами\n",
        "one_hot = pd.DataFrame(0, index=range(len(data)), columns=['robot', 'human'])\n",
        "\n",
        "# Заполняем значения в соответствии с исходными данными\n",
        "for idx, val in enumerate(data['whoAmI']):\n",
        "    if val == 'robot':\n",
        "        one_hot.loc[idx, 'robot'] = 1\n",
        "    else:\n",
        "        one_hot.loc[idx, 'human'] = 1\n",
        "\n",
        "print(one_hot.head())\n"
      ]
    }
  ],
  "metadata": {
    "colab": {
      "provenance": [],
      "authorship_tag": "ABX9TyMrVqtIBoCMKYyiFf9xfDLG",
      "include_colab_link": true
    },
    "kernelspec": {
      "display_name": "Python 3",
      "name": "python3"
    },
    "language_info": {
      "name": "python"
    }
  },
  "nbformat": 4,
  "nbformat_minor": 0
}